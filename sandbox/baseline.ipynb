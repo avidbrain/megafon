{
 "cells": [
  {
   "cell_type": "code",
   "execution_count": 1,
   "id": "e8baba32",
   "metadata": {},
   "outputs": [],
   "source": [
    "import numpy as np\n",
    "import pandas as pd\n",
    "from sklearn.metrics import f1_score"
   ]
  },
  {
   "cell_type": "code",
   "execution_count": 2,
   "id": "6b8349cd",
   "metadata": {},
   "outputs": [],
   "source": [
    "data_train = pd.read_csv('data_train.csv.zip', index_col=0, dtype=int)"
   ]
  },
  {
   "cell_type": "code",
   "execution_count": 3,
   "id": "9c58a390",
   "metadata": {},
   "outputs": [],
   "source": [
    "# Последние 4 недели - validate data set; все, что ранее - train\n",
    "val_sec = 28 * 24 * 3600  # 4 weeks\n",
    "last_learn_sec = data_train['buy_time'].max() - val_sec\n",
    "data_learn = data_train.query(\"buy_time <= @last_learn_sec\")\n",
    "data_validate = data_train.query(\"buy_time > @last_learn_sec\")"
   ]
  },
  {
   "cell_type": "code",
   "execution_count": 4,
   "id": "23982871",
   "metadata": {},
   "outputs": [
    {
     "data": {
      "text/html": [
       "<div>\n",
       "<style scoped>\n",
       "    .dataframe tbody tr th:only-of-type {\n",
       "        vertical-align: middle;\n",
       "    }\n",
       "\n",
       "    .dataframe tbody tr th {\n",
       "        vertical-align: top;\n",
       "    }\n",
       "\n",
       "    .dataframe thead th {\n",
       "        text-align: right;\n",
       "    }\n",
       "</style>\n",
       "<table border=\"1\" class=\"dataframe\">\n",
       "  <thead>\n",
       "    <tr style=\"text-align: right;\">\n",
       "      <th></th>\n",
       "      <th>vas_id</th>\n",
       "      <th>t0</th>\n",
       "      <th>t1</th>\n",
       "      <th>prediction</th>\n",
       "    </tr>\n",
       "  </thead>\n",
       "  <tbody>\n",
       "    <tr>\n",
       "      <th>1</th>\n",
       "      <td>1</td>\n",
       "      <td>0.487827</td>\n",
       "      <td>0.141515</td>\n",
       "      <td>0</td>\n",
       "    </tr>\n",
       "    <tr>\n",
       "      <th>2</th>\n",
       "      <td>2</td>\n",
       "      <td>0.264070</td>\n",
       "      <td>0.110441</td>\n",
       "      <td>0</td>\n",
       "    </tr>\n",
       "    <tr>\n",
       "      <th>4</th>\n",
       "      <td>4</td>\n",
       "      <td>0.108136</td>\n",
       "      <td>0.501557</td>\n",
       "      <td>1</td>\n",
       "    </tr>\n",
       "    <tr>\n",
       "      <th>5</th>\n",
       "      <td>5</td>\n",
       "      <td>0.075741</td>\n",
       "      <td>0.039912</td>\n",
       "      <td>0</td>\n",
       "    </tr>\n",
       "    <tr>\n",
       "      <th>6</th>\n",
       "      <td>6</td>\n",
       "      <td>0.015310</td>\n",
       "      <td>0.167853</td>\n",
       "      <td>1</td>\n",
       "    </tr>\n",
       "    <tr>\n",
       "      <th>7</th>\n",
       "      <td>7</td>\n",
       "      <td>0.021351</td>\n",
       "      <td>0.005268</td>\n",
       "      <td>0</td>\n",
       "    </tr>\n",
       "    <tr>\n",
       "      <th>8</th>\n",
       "      <td>8</td>\n",
       "      <td>0.021612</td>\n",
       "      <td>0.008788</td>\n",
       "      <td>0</td>\n",
       "    </tr>\n",
       "    <tr>\n",
       "      <th>9</th>\n",
       "      <td>9</td>\n",
       "      <td>0.005953</td>\n",
       "      <td>0.024666</td>\n",
       "      <td>1</td>\n",
       "    </tr>\n",
       "  </tbody>\n",
       "</table>\n",
       "</div>"
      ],
      "text/plain": [
       "   vas_id        t0        t1  prediction\n",
       "1       1  0.487827  0.141515           0\n",
       "2       2  0.264070  0.110441           0\n",
       "4       4  0.108136  0.501557           1\n",
       "5       5  0.075741  0.039912           0\n",
       "6       6  0.015310  0.167853           1\n",
       "7       7  0.021351  0.005268           0\n",
       "8       8  0.021612  0.008788           0\n",
       "9       9  0.005953  0.024666           1"
      ]
     },
     "execution_count": 4,
     "metadata": {},
     "output_type": "execute_result"
    }
   ],
   "source": [
    "# Вероятности предложения услуг при отказе\n",
    "t0_vas_proba = data_learn.query(\"target==0\")['vas_id'].value_counts(normalize=True, sort=False).sort_index()\n",
    "# Вероятности предложения услуг при покупке\n",
    "t1_vas_proba = data_learn.query(\"target==1\")['vas_id'].value_counts(normalize=True, sort=False)\n",
    "# Решающая таблица\n",
    "vas_proba = pd.DataFrame({'vas_id': t0_vas_proba.index, 't0': t0_vas_proba, 't1': t1_vas_proba})\n",
    "vas_proba['prediction'] = np.where(vas_proba['t1'] > vas_proba['t0'], 1, 0)\n",
    "vas_proba"
   ]
  },
  {
   "cell_type": "code",
   "execution_count": 5,
   "id": "edec79f0",
   "metadata": {},
   "outputs": [],
   "source": [
    "# Пробуем предсказать на основе решающей таблицы\n",
    "data_validate_pred = data_validate.merge(vas_proba, on='vas_id')"
   ]
  },
  {
   "cell_type": "code",
   "execution_count": 6,
   "id": "ea91c110",
   "metadata": {},
   "outputs": [
    {
     "data": {
      "text/plain": [
       "0.7465185858522339"
      ]
     },
     "execution_count": 6,
     "metadata": {},
     "output_type": "execute_result"
    }
   ],
   "source": [
    "f1_score(data_validate_pred.target, data_validate_pred.prediction, average='macro')"
   ]
  },
  {
   "cell_type": "code",
   "execution_count": null,
   "id": "55145c33",
   "metadata": {},
   "outputs": [],
   "source": []
  }
 ],
 "metadata": {
  "kernelspec": {
   "display_name": "Python 3 (ipykernel)",
   "language": "python",
   "name": "python3"
  },
  "language_info": {
   "codemirror_mode": {
    "name": "ipython",
    "version": 3
   },
   "file_extension": ".py",
   "mimetype": "text/x-python",
   "name": "python",
   "nbconvert_exporter": "python",
   "pygments_lexer": "ipython3",
   "version": "3.8.6"
  }
 },
 "nbformat": 4,
 "nbformat_minor": 5
}
