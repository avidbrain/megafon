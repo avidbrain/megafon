{
 "cells": [
  {
   "cell_type": "code",
   "execution_count": 1,
   "id": "e8baba32",
   "metadata": {},
   "outputs": [],
   "source": [
    "import numpy as np\n",
    "import pandas as pd\n",
    "from sklearn.metrics import f1_score"
   ]
  },
  {
   "cell_type": "code",
   "execution_count": 2,
   "id": "6b8349cd",
   "metadata": {},
   "outputs": [],
   "source": [
    "data_train = pd.read_csv('data_train.csv.zip', index_col=0, dtype=int)"
   ]
  },
  {
   "cell_type": "code",
   "execution_count": 3,
   "id": "9c58a390",
   "metadata": {},
   "outputs": [],
   "source": [
    "# Последние 4 недели - validate data set; все, что ранее - train\n",
    "val_sec = 28 * 24 * 3600  # 4 weeks\n",
    "last_learn_sec = data_train['buy_time'].max() - val_sec\n",
    "data_learn = data_train.query(\"buy_time <= @last_learn_sec\")\n",
    "data_validate = data_train.query(\"buy_time > @last_learn_sec\")"
   ]
  },
  {
   "cell_type": "code",
   "execution_count": 4,
   "id": "edec79f0",
   "metadata": {},
   "outputs": [],
   "source": [
    "# Пробуем предсказать на основе решающей таблицы\n",
    "data_validate_pred = data_validate.assign(prediction=lambda x:np.where(np.isin(x['vas_id'], [4, 6]), 1, 0))"
   ]
  },
  {
   "cell_type": "code",
   "execution_count": 5,
   "id": "ea91c110",
   "metadata": {},
   "outputs": [
    {
     "data": {
      "text/plain": [
       "0.7524918805191376"
      ]
     },
     "execution_count": 5,
     "metadata": {},
     "output_type": "execute_result"
    }
   ],
   "source": [
    "f1_score(data_validate_pred.target, data_validate_pred.prediction, average='macro')"
   ]
  }
 ],
 "metadata": {
  "kernelspec": {
   "display_name": "Python 3 (ipykernel)",
   "language": "python",
   "name": "python3"
  },
  "language_info": {
   "codemirror_mode": {
    "name": "ipython",
    "version": 3
   },
   "file_extension": ".py",
   "mimetype": "text/x-python",
   "name": "python",
   "nbconvert_exporter": "python",
   "pygments_lexer": "ipython3",
   "version": "3.8.6"
  }
 },
 "nbformat": 4,
 "nbformat_minor": 5
}
